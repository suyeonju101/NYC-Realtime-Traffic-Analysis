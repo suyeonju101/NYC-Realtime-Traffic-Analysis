{
 "cells": [
  {
   "cell_type": "code",
   "execution_count": 1,
   "id": "8d0e6779",
   "metadata": {},
   "outputs": [],
   "source": [
    "import requests\n",
    "import json\n",
    "import pandas as pd\n",
    "from collections import OrderedDict\n",
    "import folium\n",
    "import schedule\n",
    "import time"
   ]
  },
  {
   "cell_type": "markdown",
   "id": "54622230",
   "metadata": {},
   "source": [
    "# Constants"
   ]
  },
  {
   "cell_type": "code",
   "execution_count": 2,
   "id": "8448e47e",
   "metadata": {},
   "outputs": [],
   "source": [
    "ICON_MAPPING = {\n",
    "    0: 'Unknown',\n",
    "    1: 'Accident',\n",
    "    2: 'Fog',\n",
    "    3: 'Dangerous Conditions',\n",
    "    4: 'Rain',\n",
    "    5: 'Ice',\n",
    "    6: 'Jam',\n",
    "    7: 'Lane Closed',\n",
    "    8: 'Road Closed',\n",
    "    9: 'Road Works',\n",
    "    10: 'Wind',\n",
    "    11: 'Flooding',\n",
    "    14: 'Broken Down Vehicle'\n",
    "}"
   ]
  },
  {
   "cell_type": "code",
   "execution_count": 3,
   "id": "7f8d8775",
   "metadata": {},
   "outputs": [],
   "source": [
    "ICON_STYLES = {\n",
    "    'Accident': {'icon': 'car', 'color': 'red'},\n",
    "    'Jam': {'icon': 'road', 'color': 'orange'},\n",
    "    'Road Works': {'icon': 'wrench', 'color': 'blue'},\n",
    "    'Fog': {'icon': 'cloud', 'color': 'gray'},\n",
    "    'Rain': {'icon': 'cloud-rain', 'color': 'blue'},\n",
    "    'Ice': {'icon': 'snowflake', 'color': 'lightblue'},\n",
    "    'Wind': {'icon': 'wind', 'color': 'lightgreen'},\n",
    "    'Flooding': {'icon': 'tint', 'color': 'blue'},\n",
    "    'Broken Down Vehicle': {'icon': 'truck', 'color': 'black'},\n",
    "    'Lane Closed': {'icon': 'minus-circle', 'color': 'purple'},\n",
    "    'Dangerous Conditions': {'icon': 'exclamation-triangle', 'color': 'yellow'},\n",
    "    'Road Closed': {'icon': 'times-circle', 'color': 'darkred'},\n",
    "    'Unknown': {'icon': 'question-circle', 'color': 'gray'}\n",
    "}"
   ]
  },
  {
   "cell_type": "markdown",
   "id": "62056748",
   "metadata": {},
   "source": [
    "# 1."
   ]
  },
  {
   "cell_type": "markdown",
   "id": "e142898e",
   "metadata": {},
   "source": [
    "### With default fields"
   ]
  },
  {
   "cell_type": "code",
   "execution_count": 4,
   "id": "211d5c70",
   "metadata": {},
   "outputs": [],
   "source": [
    "def get_traffic_incidents(api_key, bbox, \n",
    "                         baseURL = \"api.tomtom.com\", \n",
    "                         versionNumber = 5):\n",
    "    \"\"\"\n",
    "    for real-time data on accidents, congestion, road closures, etc.\n",
    "    \"\"\"\n",
    "    # [GUIDE] https://developer.tomtom.com/traffic-api/documentation/traffic-incidents/incident-details\n",
    "    url = f\"https://{baseURL}/traffic/services/{versionNumber}/incidentDetails?key={api_key}&bbox={bbox}\"\n",
    "    response = requests.get(url)\n",
    "    \n",
    "    if response.status_code == 200:\n",
    "        print(f\"Number of Incidents: {len(response.json()['incidents'])}\") # analysis purpose\n",
    "        return response.json()\n",
    "    else:\n",
    "        return {\"error\": f\"Failed to fetch data. Status code: {response.status_code}\"}\n",
    "    \n",
    "    return response"
   ]
  },
  {
   "cell_type": "markdown",
   "id": "a418a186",
   "metadata": {},
   "source": [
    "### Helper functions"
   ]
  },
  {
   "cell_type": "code",
   "execution_count": 5,
   "id": "387a03e5",
   "metadata": {},
   "outputs": [],
   "source": [
    "def save_data_to_json(filename, data):\n",
    "    \"\"\"\n",
    "    save data to a JSON file\n",
    "    \"\"\"\n",
    "    with open(filename, \"w\") as json_file:\n",
    "        json.dump(data, json_file, indent=4)"
   ]
  },
  {
   "cell_type": "code",
   "execution_count": 6,
   "id": "812ccefd",
   "metadata": {},
   "outputs": [],
   "source": [
    "def json_to_df(filename):\n",
    "    \"\"\"\n",
    "    save data to a dataframe\n",
    "    \"\"\"\n",
    "    # Load the JSON data\n",
    "    with open(filename, 'r') as f:\n",
    "        data = json.load(f)\n",
    "    # Normalize the JSON data to a flat table (DataFrame)\n",
    "    incidents_df = pd.json_normalize(data['incidents'])\n",
    "    # Replace the 'properties.iconCategory' with the corresponding descriptive labels\n",
    "    incidents_df['properties.iconCategory'] = incidents_df['properties.iconCategory'].map(ICON_MAPPING)\n",
    "\n",
    "    return incidents_df"
   ]
  },
  {
   "cell_type": "markdown",
   "id": "9edc0f9e",
   "metadata": {},
   "source": [
    "## 1-1."
   ]
  },
  {
   "cell_type": "markdown",
   "id": "aa6d6cfa",
   "metadata": {},
   "source": [
    "### Visualization with `Folium`"
   ]
  },
  {
   "cell_type": "code",
   "execution_count": 7,
   "id": "d8ab8c41",
   "metadata": {},
   "outputs": [
    {
     "name": "stdout",
     "output_type": "stream",
     "text": [
      "Number of Incidents: 1902\n",
      "Succeeded: 1902 traffic incidents in data frame!\n"
     ]
    }
   ],
   "source": [
    "api_key = \"N8xhZrbfY7NZEqbqIeEedz4xUBmXARBG\"\n",
    "bbox = \"-74.25,40.50,-73.70,40.95\"  # Bounding box for NYC\n",
    "\n",
    "traffic_incidents_data = get_traffic_incidents(api_key, bbox)\n",
    "\n",
    "if \"error\" not in traffic_incidents_data:\n",
    "    filename = \"traffic_incidents_data.json\"\n",
    "    # Save data to a JSON file\n",
    "    save_data_to_json(filename, traffic_incidents_data)\n",
    "    # Create a dataframe from the JSON file\n",
    "    incidents_df = json_to_df(filename)\n",
    "    print(f\"Succeeded: {incidents_df.shape[0]} traffic incidents in data frame!\")\n",
    "else:\n",
    "    print(traffic_incidents_data[\"error\"])"
   ]
  },
  {
   "cell_type": "code",
   "execution_count": 8,
   "id": "06cc7371",
   "metadata": {},
   "outputs": [
    {
     "data": {
      "text/html": [
       "<div>\n",
       "<style scoped>\n",
       "    .dataframe tbody tr th:only-of-type {\n",
       "        vertical-align: middle;\n",
       "    }\n",
       "\n",
       "    .dataframe tbody tr th {\n",
       "        vertical-align: top;\n",
       "    }\n",
       "\n",
       "    .dataframe thead th {\n",
       "        text-align: right;\n",
       "    }\n",
       "</style>\n",
       "<table border=\"1\" class=\"dataframe\">\n",
       "  <thead>\n",
       "    <tr style=\"text-align: right;\">\n",
       "      <th></th>\n",
       "      <th>type</th>\n",
       "      <th>properties.iconCategory</th>\n",
       "      <th>geometry.type</th>\n",
       "      <th>geometry.coordinates</th>\n",
       "    </tr>\n",
       "  </thead>\n",
       "  <tbody>\n",
       "    <tr>\n",
       "      <th>0</th>\n",
       "      <td>Feature</td>\n",
       "      <td>Jam</td>\n",
       "      <td>LineString</td>\n",
       "      <td>[[-74.2489609714, 40.8405697552], [-74.2485961...</td>\n",
       "    </tr>\n",
       "    <tr>\n",
       "      <th>1</th>\n",
       "      <td>Feature</td>\n",
       "      <td>Jam</td>\n",
       "      <td>LineString</td>\n",
       "      <td>[[-74.2498635348, 40.8335598447], [-74.2496556...</td>\n",
       "    </tr>\n",
       "    <tr>\n",
       "      <th>2</th>\n",
       "      <td>Feature</td>\n",
       "      <td>Jam</td>\n",
       "      <td>LineString</td>\n",
       "      <td>[[-74.2434731718, 40.6357603154], [-74.2449577...</td>\n",
       "    </tr>\n",
       "    <tr>\n",
       "      <th>3</th>\n",
       "      <td>Feature</td>\n",
       "      <td>Jam</td>\n",
       "      <td>LineString</td>\n",
       "      <td>[[-74.2434235509, 40.8403485111], [-74.2453963...</td>\n",
       "    </tr>\n",
       "    <tr>\n",
       "      <th>4</th>\n",
       "      <td>Feature</td>\n",
       "      <td>Jam</td>\n",
       "      <td>LineString</td>\n",
       "      <td>[[-74.2452930506, 40.7008119257], [-74.2453145...</td>\n",
       "    </tr>\n",
       "  </tbody>\n",
       "</table>\n",
       "</div>"
      ],
      "text/plain": [
       "      type properties.iconCategory geometry.type  \\\n",
       "0  Feature                     Jam    LineString   \n",
       "1  Feature                     Jam    LineString   \n",
       "2  Feature                     Jam    LineString   \n",
       "3  Feature                     Jam    LineString   \n",
       "4  Feature                     Jam    LineString   \n",
       "\n",
       "                                geometry.coordinates  \n",
       "0  [[-74.2489609714, 40.8405697552], [-74.2485961...  \n",
       "1  [[-74.2498635348, 40.8335598447], [-74.2496556...  \n",
       "2  [[-74.2434731718, 40.6357603154], [-74.2449577...  \n",
       "3  [[-74.2434235509, 40.8403485111], [-74.2453963...  \n",
       "4  [[-74.2452930506, 40.7008119257], [-74.2453145...  "
      ]
     },
     "execution_count": 8,
     "metadata": {},
     "output_type": "execute_result"
    }
   ],
   "source": [
    "incidents_df.head()"
   ]
  },
  {
   "cell_type": "code",
   "execution_count": 9,
   "id": "402ea715",
   "metadata": {},
   "outputs": [
    {
     "name": "stdout",
     "output_type": "stream",
     "text": [
      "[[-74.2489609714, 40.8405697552], [-74.248596191, 40.8407199776], [-74.2484325762, 40.8408218801], [-74.2482260462, 40.8412523797], [-74.2482045885, 40.8413838309], [-74.2482287284, 40.8414870639], [-74.2482984658, 40.8416211779], [-74.2483842965, 40.841693593]]\n"
     ]
    }
   ],
   "source": [
    "# Access the coordinates of the first row\n",
    "coordinates_first_row = incidents_df.loc[0, 'geometry.coordinates']\n",
    "# Display the coordinates\n",
    "print(coordinates_first_row)"
   ]
  },
  {
   "cell_type": "code",
   "execution_count": 10,
   "id": "356200e9",
   "metadata": {},
   "outputs": [],
   "source": [
    "incident_map = folium.Map(location=[40.7128, -74.0060], zoom_start=12)\n",
    "\n",
    "# Create separate feature groups for each incident type\n",
    "incident_types = incidents_df['properties.iconCategory'].unique()\n",
    "\n",
    "# Dictionary to store feature groups by incident type\n",
    "feature_groups = {incident_type: folium.FeatureGroup(name=incident_type) for incident_type in incident_types}\n",
    "\n",
    "# Add incidents to the respective feature group with custom icons\n",
    "for index, row in incidents_df.iterrows():\n",
    "    coordinates = row['geometry.coordinates'][0]  # Extract coordinates\n",
    "    incident_type = row['properties.iconCategory']\n",
    "    \n",
    "    # Get the icon and color for the incident type\n",
    "    icon_info = ICON_STYLES.get(incident_type, {'icon': 'info-sign', 'color': 'green'})  # Default icon if not found\n",
    "    \n",
    "    # Add markers with custom icons to the corresponding feature group\n",
    "    folium.Marker(\n",
    "        location=[coordinates[1], coordinates[0]],  # Coordinates in [lat, lon]\n",
    "        popup=f\"Incident: {incident_type}\",\n",
    "        icon=folium.Icon(icon=icon_info['icon'], color=icon_info['color'])\n",
    "    ).add_to(feature_groups[incident_type])\n",
    "\n",
    "# Add all feature groups to the map\n",
    "for fg in feature_groups.values():\n",
    "    fg.add_to(incident_map)\n",
    "\n",
    "# Add layer control to toggle the feature groups\n",
    "folium.LayerControl().add_to(incident_map)\n",
    "\n",
    "# Save the map to an HTML file\n",
    "incident_map.save('traffic_incidents_map_static.html')"
   ]
  },
  {
   "cell_type": "markdown",
   "id": "077bc503",
   "metadata": {},
   "source": [
    "## 2-2."
   ]
  },
  {
   "cell_type": "markdown",
   "id": "b389918e",
   "metadata": {},
   "source": [
    "### Real-time Visualization with `Folium`"
   ]
  },
  {
   "cell_type": "code",
   "execution_count": 11,
   "id": "450438f4",
   "metadata": {},
   "outputs": [],
   "source": [
    "def fetch_and_update_map():\n",
    "    \"\"\"\n",
    "    make API requests and create and update map\n",
    "    \"\"\"\n",
    "    #### From section \"Main\"\n",
    "    traffic_incidents_data = get_traffic_incidents(api_key, bbox)\n",
    "\n",
    "    if \"error\" not in traffic_incidents_data:\n",
    "        filename = \"traffic_incidents_data.json\"\n",
    "        # Save data to a JSON file\n",
    "        save_data_to_json(filename, traffic_incidents_data)\n",
    "        # Create a dataframe from the JSON file\n",
    "        incidents_df = json_to_df(filename)\n",
    "        print(f\"Succeeded: {incidents_df.shape[0]} traffic incidents in data frame!\")\n",
    "    else:\n",
    "        print(traffic_incidents_data[\"error\"])\n",
    "    #### \n",
    "    \n",
    "    # Initialize a new map\n",
    "    incident_map = folium.Map(location=[40.7128, -74.0060], zoom_start=12)\n",
    "\n",
    "    # Create separate feature groups for each incident type\n",
    "    incident_types = incidents_df['properties.iconCategory'].unique()\n",
    "    feature_groups = {incident_type: folium.FeatureGroup(name=incident_type) for incident_type in incident_types}\n",
    "\n",
    "    # Add incidents to the respective feature group with custom icons\n",
    "    for index, row in incidents_df.iterrows():\n",
    "        coordinates = row['geometry.coordinates'][0]  # Extract coordinates\n",
    "        incident_type = row['properties.iconCategory']\n",
    "        \n",
    "        # Get the icon and color for the incident type\n",
    "        icon_info = ICON_STYLES.get(incident_type, {'icon': 'info-sign', 'color': 'green'})  # Default icon\n",
    "        \n",
    "        # Add markers with custom icons to the corresponding feature group\n",
    "        folium.Marker(\n",
    "            location=[coordinates[1], coordinates[0]],  # Coordinates in [lat, lon]\n",
    "            popup=f\"Incident: {incident_type}\",\n",
    "            icon=folium.Icon(icon=icon_info['icon'], color=icon_info['color'])\n",
    "        ).add_to(feature_groups[incident_type])\n",
    "\n",
    "    # Add all feature groups to the map\n",
    "    for fg in feature_groups.values():\n",
    "        fg.add_to(incident_map)\n",
    "\n",
    "    # Add layer control to toggle the feature groups\n",
    "    folium.LayerControl().add_to(incident_map)\n",
    "\n",
    "    # Save the map to an HTML file\n",
    "    incident_map.save('traffic_incidents_map.html')\n",
    "    print(\"Map updated with latest incidents\\n\")"
   ]
  },
  {
   "cell_type": "code",
   "execution_count": 12,
   "id": "7dc86786",
   "metadata": {},
   "outputs": [
    {
     "name": "stdout",
     "output_type": "stream",
     "text": [
      "Number of Incidents: 1993\n",
      "Succeeded: 1993 traffic incidents in data frame!\n",
      "Map updated with latest incidents\n",
      "\n",
      "Number of Incidents: 2035\n",
      "Succeeded: 2035 traffic incidents in data frame!\n",
      "Map updated with latest incidents\n",
      "\n",
      "Number of Incidents: 2027\n",
      "Succeeded: 2027 traffic incidents in data frame!\n",
      "Map updated with latest incidents\n",
      "\n"
     ]
    },
    {
     "ename": "KeyboardInterrupt",
     "evalue": "",
     "output_type": "error",
     "traceback": [
      "\u001b[0;31m---------------------------------------------------------------------------\u001b[0m",
      "\u001b[0;31mKeyboardInterrupt\u001b[0m                         Traceback (most recent call last)",
      "Cell \u001b[0;32mIn[12], line 10\u001b[0m\n\u001b[1;32m      8\u001b[0m \u001b[38;5;28;01mwhile\u001b[39;00m \u001b[38;5;28;01mTrue\u001b[39;00m:\n\u001b[1;32m      9\u001b[0m     schedule\u001b[38;5;241m.\u001b[39mrun_pending()\n\u001b[0;32m---> 10\u001b[0m     time\u001b[38;5;241m.\u001b[39msleep(\u001b[38;5;241m1\u001b[39m)\n",
      "\u001b[0;31mKeyboardInterrupt\u001b[0m: "
     ]
    }
   ],
   "source": [
    "api_key = \"N8xhZrbfY7NZEqbqIeEedz4xUBmXARBG\"\n",
    "bbox = \"-74.25,40.50,-73.70,40.95\"  # Bounding box for NYC\n",
    "\n",
    "# Schedule the task to run every 2 minutes\n",
    "schedule.every(2).minutes.do(fetch_and_update_map)\n",
    "\n",
    "# Keep the script running to execute the task\n",
    "while True:\n",
    "    schedule.run_pending()\n",
    "    time.sleep(1)"
   ]
  },
  {
   "cell_type": "markdown",
   "id": "3262b80b",
   "metadata": {},
   "source": [
    "**Report:** \n",
    "\n",
    "\n",
    "1. (every 2 minutes) 30 requests/hour $\\times$ 24 hours = 720 requests **: current code**\n",
    "2. (every 10 minutes) 6 requests/hour $\\times$ 24 hours = 144 requests\n",
    "3. (every 60 minutes) 1 request/hour $\\times$ 24 hours = 24 requests"
   ]
  },
  {
   "cell_type": "markdown",
   "id": "691bd003",
   "metadata": {},
   "source": [
    "# 2."
   ]
  },
  {
   "cell_type": "markdown",
   "id": "aa6c6190",
   "metadata": {},
   "source": [
    "### With customized fields"
   ]
  },
  {
   "cell_type": "code",
   "execution_count": null,
   "id": "cbbc8df2",
   "metadata": {},
   "outputs": [],
   "source": [
    "# With Field\n",
    "def get_traffic_incidents_customized(api_key, bbox, \n",
    "                         baseURL = \"api.tomtom.com\", \n",
    "                         versionNumber = 5,\n",
    "                         fields=\"{incidents{type,geometry{type,coordinates},properties{iconCategory,magnitudeOfDelay,events{description,code,iconCategory},startTime,endTime,from,to,length,delay,roadNumbers,timeValidity,probabilityOfOccurrence,numberOfReports}}}\"):\n",
    "    \"\"\"\n",
    "    for real-time data on accidents, congestion, road closures, etc.\n",
    "    \"\"\"\n",
    "    # [GUIDE] https://developer.tomtom.com/traffic-api/documentation/traffic-incidents/incident-details\n",
    "    url = f\"https://{baseURL}/traffic/services/{versionNumber}/incidentDetails?key={api_key}&bbox={bbox}&fields={fields}\"\n",
    "    response = requests.get(url)\n",
    "    \n",
    "    if response.status_code == 200:\n",
    "        print(f\"Number of Incidents: {len(response.json()['incidents'])}\") # analysis purpose\n",
    "        return response.json()\n",
    "    else:\n",
    "        return {\"error\": f\"Failed to fetch data. Status code: {response.status_code}\"}"
   ]
  },
  {
   "cell_type": "markdown",
   "id": "14121285",
   "metadata": {},
   "source": [
    "### Main"
   ]
  },
  {
   "cell_type": "code",
   "execution_count": null,
   "id": "dc133074",
   "metadata": {},
   "outputs": [],
   "source": [
    "api_key = \"N8xhZrbfY7NZEqbqIeEedz4xUBmXARBG\"\n",
    "bbox = \"-74.25,40.50,-73.70,40.95\"  # Bounding box for NYC\n",
    "\n",
    "traffic_incidents_data = get_traffic_incidents_customized(api_key, bbox)\n",
    "\n",
    "if \"error\" not in traffic_incidents_data:\n",
    "    filename = \"traffic_incidents_data_customized.json\"\n",
    "    # Save data to a JSON file\n",
    "    save_data_to_json(filename, traffic_incidents_data)\n",
    "    # Create a dataframe from the JSON file\n",
    "    df = json_to_df(filename)\n",
    "    print(f\"Succeeded: {df.shape[0]} traffic incidents in data frame!\")\n",
    "else:\n",
    "    print(traffic_incidents_data[\"error\"])"
   ]
  },
  {
   "cell_type": "code",
   "execution_count": null,
   "id": "d3527ad3",
   "metadata": {},
   "outputs": [],
   "source": [
    "df.head()"
   ]
  },
  {
   "cell_type": "code",
   "execution_count": null,
   "id": "16c273a2",
   "metadata": {},
   "outputs": [],
   "source": [
    "# Access the coordinates of the first row\n",
    "coordinates_first_row = df.loc[0, 'geometry.coordinates']\n",
    "# Display the coordinates\n",
    "print(coordinates_first_row)"
   ]
  }
 ],
 "metadata": {
  "kernelspec": {
   "display_name": "Python 3 (ipykernel)",
   "language": "python",
   "name": "python3"
  },
  "language_info": {
   "codemirror_mode": {
    "name": "ipython",
    "version": 3
   },
   "file_extension": ".py",
   "mimetype": "text/x-python",
   "name": "python",
   "nbconvert_exporter": "python",
   "pygments_lexer": "ipython3",
   "version": "3.11.4"
  }
 },
 "nbformat": 4,
 "nbformat_minor": 5
}
