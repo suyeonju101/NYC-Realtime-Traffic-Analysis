{
 "cells": [
  {
   "cell_type": "code",
   "execution_count": 1,
   "id": "df6c6789",
   "metadata": {},
   "outputs": [],
   "source": [
    "# pip install dash folium dash-html-components"
   ]
  },
  {
   "cell_type": "code",
   "execution_count": 2,
   "id": "a5f5cb53",
   "metadata": {},
   "outputs": [],
   "source": [
    "import requests\n",
    "import folium\n",
    "import time\n",
    "import numpy as np\n",
    "from dash import Dash, html, dcc\n",
    "from dash.dependencies import Input, Output"
   ]
  },
  {
   "cell_type": "code",
   "execution_count": 3,
   "id": "656c1000",
   "metadata": {},
   "outputs": [],
   "source": [
    "API_KEY = \"N8xhZrbfY7NZEqbqIeEedz4xUBmXARBG\""
   ]
  },
  {
   "cell_type": "markdown",
   "id": "79b4413d",
   "metadata": {},
   "source": [
    "# Visualization from fetched data"
   ]
  },
  {
   "cell_type": "code",
   "execution_count": 12,
   "id": "b8826ea3",
   "metadata": {},
   "outputs": [],
   "source": [
    "def get_traffic_flow(api_key, location, \n",
    "                     baseURL = \"api.tomtom.com\", \n",
    "                     versionNumber = 4, \n",
    "                     style = \"absolute\", \n",
    "                     zoom = 22, \n",
    "                     form = \"json\"):\n",
    "    \"\"\"\n",
    "    fetch real-time data on road speeds and travel times from TomTom Traffic API.\n",
    "    \"\"\"\n",
    "    url = f\"https://{baseURL}/traffic/services/{versionNumber}/flowSegmentData/{style}/{zoom}/{form}?key={api_key}&point={location}\"\n",
    "    response = requests.get(url)\n",
    "    \n",
    "    if response.status_code == 200:\n",
    "        return response.json()\n",
    "    else:\n",
    "        return {\"error\": f\"Failed to fetch data. Status code: {response.status_code}\"}\n",
    "\n",
    "def get_color_by_speed(speed):\n",
    "    \"\"\"\n",
    "    returns color based on speed:\n",
    "    - Gray: speed <= 1 km/h\n",
    "    - Red: 1 < speed <= 60 km/h\n",
    "    - Yellow: 60 < speed <= 120 km/h\n",
    "    - Green: speed > 120 km/h\n",
    "    \"\"\"\n",
    "    if speed <= 1:\n",
    "        return \"gray\"\n",
    "    elif 1 < speed <= 60:\n",
    "        return \"red\"\n",
    "    elif 60 < speed <= 120:\n",
    "        return \"yellow\"\n",
    "    else:\n",
    "        return \"green\"\n",
    "\n",
    "def generate_traffic_map(api_key):\n",
    "    # Define Manhattan boundaries (approximate)\n",
    "    nyc_lat_min, nyc_lat_max = 40.679548, 40.882214\n",
    "    nyc_lon_min, nyc_lon_max = -74.010773, -73.906158\n",
    "\n",
    "    # Generate a grid of points across Manhattan\n",
    "    lat_intervals = np.arange(nyc_lat_min, nyc_lat_max, 0.005)  # Smaller interval for more detail: [0.01, 0.005]\n",
    "    lon_intervals = np.arange(nyc_lon_min, nyc_lon_max, 0.005)\n",
    "\n",
    "    # Initialize map for visualization\n",
    "    nyc_map = folium.Map(location=[40.7128, -74.0060], zoom_start=22) # zoom_start = 12 (0..22)\n",
    "\n",
    "    # Loop through the grid and fetch traffic flow data for each location\n",
    "    cnt = 0\n",
    "    for lat in lat_intervals:\n",
    "        for lon in lon_intervals:\n",
    "            location = f\"{lat},{lon}\"\n",
    "            data = get_traffic_flow(api_key, location)\n",
    "            cnt += 1\n",
    "            \n",
    "            if 'flowSegmentData' in data:\n",
    "                speed = data['flowSegmentData']['currentSpeed']\n",
    "                color = get_color_by_speed(speed)\n",
    "                \n",
    "                # Extract coordinates for the road segment from the response\n",
    "                coordinates = data['flowSegmentData']['coordinates']['coordinate']\n",
    "                \n",
    "                # Convert coordinates into a format that folium.PolyLine can use\n",
    "                coords = [(coord['latitude'], coord['longitude']) for coord in coordinates]\n",
    "                \n",
    "                # Add colored polyline (representing the road segment) to the map\n",
    "                folium.PolyLine(\n",
    "                    locations=coords,\n",
    "                    color=color,\n",
    "                    weight=5,\n",
    "                    opacity=0.7\n",
    "                ).add_to(nyc_map)\n",
    "            \n",
    "\n",
    "    print(f\"{cnt} API requests made.\")\n",
    "    \n",
    "    # Save map as HTML file\n",
    "    nyc_map.save(\"manhattan_traffic_flow_.html\")\n",
    "    \n",
    "    # return nyc_map._repr_html_()"
   ]
  },
  {
   "cell_type": "markdown",
   "id": "89c6727c",
   "metadata": {},
   "source": [
    "### Main"
   ]
  },
  {
   "cell_type": "code",
   "execution_count": 13,
   "id": "f9b7da73",
   "metadata": {},
   "outputs": [
    {
     "name": "stdout",
     "output_type": "stream",
     "text": [
      "861 API requests made.\n"
     ]
    }
   ],
   "source": [
    "# Call the function to generate and visualize the traffic map\n",
    "generate_traffic_map(API_KEY)"
   ]
  },
  {
   "cell_type": "markdown",
   "id": "5b4888cf",
   "metadata": {},
   "source": [
    "**Report:**\n",
    "- with 0.01: 231 API requests needed for 1 call (4 hours = 4 calls = 924 requests)\n",
    "- with 0.005: **861** API requests needed for 1 call (4 hours = 4 calls = 3444 requests) : **current code**\n",
    "\n",
    "**Depends on the level of zoom, results vary.**"
   ]
  },
  {
   "cell_type": "code",
   "execution_count": null,
   "id": "95701cbc",
   "metadata": {},
   "outputs": [],
   "source": []
  },
  {
   "cell_type": "code",
   "execution_count": null,
   "id": "7ce08d26",
   "metadata": {},
   "outputs": [],
   "source": [
    "###### NOTE: it might be needed for later to schedule requests ######\n",
    "\n",
    "# start_time = time.time()\n",
    "# ########################################\n",
    "# app = Dash(__name__)\n",
    "\n",
    "# # Dash app layout\n",
    "# app.layout = html.Div([\n",
    "#     html.H1(\"NYC Traffic Flow Dashboard\"),\n",
    "#     dcc.Interval(id='interval-component', interval=60*60*1000, n_intervals=0),  # Refresh every hour\n",
    "#     html.Iframe(id=\"traffic-map\", srcDoc=generate_traffic_map(), width=\"100%\", height=\"600\")\n",
    "# ])\n",
    "\n",
    "# # Callback to refresh the map every hour\n",
    "# @app.callback(\n",
    "#     Output('traffic-map', 'srcDoc'),\n",
    "#     Input('interval-component', 'n_intervals')\n",
    "# )\n",
    "\n",
    "# def update_map(n):\n",
    "#     return generate_traffic_map()\n",
    "\n",
    "# app.run_server(debug=True)\n",
    "# ########################################\n",
    "# end_time = time.time()\n",
    "# print(f\"Running time: {end_time - start_time} seconds\")"
   ]
  },
  {
   "cell_type": "markdown",
   "id": "d11910df",
   "metadata": {},
   "source": [
    "# Visualization not from fetched data"
   ]
  },
  {
   "cell_type": "code",
   "execution_count": 1,
   "id": "9e9d0754",
   "metadata": {},
   "outputs": [],
   "source": [
    "import requests\n",
    "import folium\n",
    "from PIL import Image\n",
    "from io import BytesIO"
   ]
  },
  {
   "cell_type": "code",
   "execution_count": 10,
   "id": "5e7204e9",
   "metadata": {},
   "outputs": [],
   "source": [
    "# def get_tile(z, x, y):\n",
    "#     BASE_URL = 'https://api.tomtom.com/traffic/map/4/tile/flow/absolute/{z}/{x}/{y}.png?key=' + API_KEY\n",
    "#     url = BASE_URL.format(z=z, x=x, y=y)\n",
    "#     response = requests.get(url)\n",
    "#     if response.status_code == 200:\n",
    "#         image = Image.open(BytesIO(response.content))\n",
    "#         return image\n",
    "#     else:\n",
    "#         print(f\"Failed to retrieve tile ({z}, {x}, {y})\")\n",
    "#         return None\n",
    "    \n",
    "# get_tile(12, 2044, 1360)"
   ]
  },
  {
   "cell_type": "code",
   "execution_count": 2,
   "id": "46da1a57",
   "metadata": {},
   "outputs": [],
   "source": [
    "def plot_traffic_map():\n",
    "    nyc_lat = 40.7128\n",
    "    nyc_lon = -74.0060\n",
    "    map_nyc = folium.Map(location=[nyc_lat, nyc_lon], zoom_start=12)\n",
    "\n",
    "    # Using folium to display map with traffic tiles\n",
    "    # For folium, we can add an overlay that will provide context for the fetched tile\n",
    "    folium.TileLayer('https://api.tomtom.com/traffic/map/4/tile/flow/relative/{z}/{x}/{y}.png?key=' + API_KEY,\n",
    "                     attr='TomTom Traffic Flow', name='Traffic Flow', overlay=True).add_to(map_nyc)\n",
    "\n",
    "    folium.LayerControl().add_to(map_nyc)\n",
    "    # Save the map to an HTML file and open it in the browser\n",
    "    map_nyc.save('nyc_traffic_flow.html')"
   ]
  },
  {
   "cell_type": "code",
   "execution_count": 5,
   "id": "322d57fd",
   "metadata": {},
   "outputs": [],
   "source": [
    "plot_traffic_map()"
   ]
  }
 ],
 "metadata": {
  "kernelspec": {
   "display_name": "Python 3 (ipykernel)",
   "language": "python",
   "name": "python3"
  },
  "language_info": {
   "codemirror_mode": {
    "name": "ipython",
    "version": 3
   },
   "file_extension": ".py",
   "mimetype": "text/x-python",
   "name": "python",
   "nbconvert_exporter": "python",
   "pygments_lexer": "ipython3",
   "version": "3.11.4"
  }
 },
 "nbformat": 4,
 "nbformat_minor": 5
}
